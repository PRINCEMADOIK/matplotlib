{
 "cells": [
  {
   "cell_type": "code",
   "execution_count": 1,
   "id": "59f5f501",
   "metadata": {},
   "outputs": [],
   "source": [
    "import numpy as np\n",
    "import pandas as pd\n",
    "import matplotlib.pyplot as plt"
   ]
  },
  {
   "cell_type": "code",
   "execution_count": null,
   "id": "ab84193a",
   "metadata": {},
   "outputs": [],
   "source": []
  },
  {
   "cell_type": "code",
   "execution_count": 2,
   "id": "e9986ebb",
   "metadata": {},
   "outputs": [
    {
     "data": {
      "text/plain": [
       "<bound method DataFrame.to_string of     Unnamed: 0  Duration          Date  Pulse  Maxpulse    Calories\n",
       "0            0        60  '2020/12/01'    110       130  409.100000\n",
       "1            1        60  '2020/12/02'    117       145  479.000000\n",
       "2            2        60  '2020/12/03'    103       135  340.000000\n",
       "3            3        45  '2020/12/04'    109       175  282.400000\n",
       "4            4        45  '2020/12/05'    117       148  406.000000\n",
       "5            5        60  '2020/12/06'    102       127  300.000000\n",
       "6            6        60  '2020/12/07'    110       136  374.000000\n",
       "7            7        45  '2020/12/08'    104       134  253.300000\n",
       "8            8        30  '2020/12/09'    109       133  195.100000\n",
       "9            9        60  '2020/12/10'     98       124  269.000000\n",
       "10          10        60  '2020/12/11'    103       147  329.300000\n",
       "11          11        60  '2020/12/12'    100       120  250.700000\n",
       "12          12        60  '2020/12/12'    100       120  250.700000\n",
       "13          13        60  '2020/12/13'    106       128  345.300000\n",
       "14          14        60  '2020/12/14'    104       132  379.300000\n",
       "15          15        60  '2020/12/15'     98       123  275.000000\n",
       "16          16        60  '2020/12/16'     98       120  215.200000\n",
       "17          17        60  '2020/12/17'    100       120  300.000000\n",
       "18          18        45  '2020/12/18'     90       112  305.462069\n",
       "19          19        60  '2020/12/19'    103       123  323.000000\n",
       "20          20        45  '2020/12/20'     97       125  243.000000\n",
       "21          21        60  '2020/12/21'    108       131  364.200000\n",
       "22          23        60  '2020/12/23'    130       101  300.000000\n",
       "23          24        45  '2020/12/24'    105       132  246.000000\n",
       "24          25        60  '2020/12/25'    102       126  334.500000\n",
       "25          26        60      20201226    100       120  250.000000\n",
       "26          27        60  '2020/12/27'     92       118  241.000000\n",
       "27          28        60  '2020/12/28'    103       132  305.462069\n",
       "28          29        60  '2020/12/29'    100       132  280.000000\n",
       "29          30        60  '2020/12/30'    102       129  380.300000\n",
       "30          31        60  '2020/12/31'     92       115  243.000000>"
      ]
     },
     "execution_count": 2,
     "metadata": {},
     "output_type": "execute_result"
    }
   ],
   "source": [
    "c =pd.read_csv(r'C:\\Users\\HP\\Desktop\\CleanCalories.csv')\n",
    "c.to_string"
   ]
  },
  {
   "cell_type": "code",
   "execution_count": 3,
   "id": "b952a833",
   "metadata": {},
   "outputs": [
    {
     "data": {
      "text/html": [
       "<div>\n",
       "<style scoped>\n",
       "    .dataframe tbody tr th:only-of-type {\n",
       "        vertical-align: middle;\n",
       "    }\n",
       "\n",
       "    .dataframe tbody tr th {\n",
       "        vertical-align: top;\n",
       "    }\n",
       "\n",
       "    .dataframe thead th {\n",
       "        text-align: right;\n",
       "    }\n",
       "</style>\n",
       "<table border=\"1\" class=\"dataframe\">\n",
       "  <thead>\n",
       "    <tr style=\"text-align: right;\">\n",
       "      <th></th>\n",
       "      <th>Unnamed: 0</th>\n",
       "      <th>Duration</th>\n",
       "      <th>Date</th>\n",
       "      <th>Pulse</th>\n",
       "      <th>Maxpulse</th>\n",
       "      <th>Calories</th>\n",
       "    </tr>\n",
       "  </thead>\n",
       "  <tbody>\n",
       "    <tr>\n",
       "      <th>0</th>\n",
       "      <td>0</td>\n",
       "      <td>60</td>\n",
       "      <td>'2020/12/01'</td>\n",
       "      <td>110</td>\n",
       "      <td>130</td>\n",
       "      <td>409.100000</td>\n",
       "    </tr>\n",
       "    <tr>\n",
       "      <th>1</th>\n",
       "      <td>1</td>\n",
       "      <td>60</td>\n",
       "      <td>'2020/12/02'</td>\n",
       "      <td>117</td>\n",
       "      <td>145</td>\n",
       "      <td>479.000000</td>\n",
       "    </tr>\n",
       "    <tr>\n",
       "      <th>2</th>\n",
       "      <td>2</td>\n",
       "      <td>60</td>\n",
       "      <td>'2020/12/03'</td>\n",
       "      <td>103</td>\n",
       "      <td>135</td>\n",
       "      <td>340.000000</td>\n",
       "    </tr>\n",
       "    <tr>\n",
       "      <th>3</th>\n",
       "      <td>3</td>\n",
       "      <td>45</td>\n",
       "      <td>'2020/12/04'</td>\n",
       "      <td>109</td>\n",
       "      <td>175</td>\n",
       "      <td>282.400000</td>\n",
       "    </tr>\n",
       "    <tr>\n",
       "      <th>4</th>\n",
       "      <td>4</td>\n",
       "      <td>45</td>\n",
       "      <td>'2020/12/05'</td>\n",
       "      <td>117</td>\n",
       "      <td>148</td>\n",
       "      <td>406.000000</td>\n",
       "    </tr>\n",
       "    <tr>\n",
       "      <th>5</th>\n",
       "      <td>5</td>\n",
       "      <td>60</td>\n",
       "      <td>'2020/12/06'</td>\n",
       "      <td>102</td>\n",
       "      <td>127</td>\n",
       "      <td>300.000000</td>\n",
       "    </tr>\n",
       "    <tr>\n",
       "      <th>6</th>\n",
       "      <td>6</td>\n",
       "      <td>60</td>\n",
       "      <td>'2020/12/07'</td>\n",
       "      <td>110</td>\n",
       "      <td>136</td>\n",
       "      <td>374.000000</td>\n",
       "    </tr>\n",
       "    <tr>\n",
       "      <th>7</th>\n",
       "      <td>7</td>\n",
       "      <td>45</td>\n",
       "      <td>'2020/12/08'</td>\n",
       "      <td>104</td>\n",
       "      <td>134</td>\n",
       "      <td>253.300000</td>\n",
       "    </tr>\n",
       "    <tr>\n",
       "      <th>8</th>\n",
       "      <td>8</td>\n",
       "      <td>30</td>\n",
       "      <td>'2020/12/09'</td>\n",
       "      <td>109</td>\n",
       "      <td>133</td>\n",
       "      <td>195.100000</td>\n",
       "    </tr>\n",
       "    <tr>\n",
       "      <th>9</th>\n",
       "      <td>9</td>\n",
       "      <td>60</td>\n",
       "      <td>'2020/12/10'</td>\n",
       "      <td>98</td>\n",
       "      <td>124</td>\n",
       "      <td>269.000000</td>\n",
       "    </tr>\n",
       "    <tr>\n",
       "      <th>10</th>\n",
       "      <td>10</td>\n",
       "      <td>60</td>\n",
       "      <td>'2020/12/11'</td>\n",
       "      <td>103</td>\n",
       "      <td>147</td>\n",
       "      <td>329.300000</td>\n",
       "    </tr>\n",
       "    <tr>\n",
       "      <th>11</th>\n",
       "      <td>11</td>\n",
       "      <td>60</td>\n",
       "      <td>'2020/12/12'</td>\n",
       "      <td>100</td>\n",
       "      <td>120</td>\n",
       "      <td>250.700000</td>\n",
       "    </tr>\n",
       "    <tr>\n",
       "      <th>12</th>\n",
       "      <td>12</td>\n",
       "      <td>60</td>\n",
       "      <td>'2020/12/12'</td>\n",
       "      <td>100</td>\n",
       "      <td>120</td>\n",
       "      <td>250.700000</td>\n",
       "    </tr>\n",
       "    <tr>\n",
       "      <th>13</th>\n",
       "      <td>13</td>\n",
       "      <td>60</td>\n",
       "      <td>'2020/12/13'</td>\n",
       "      <td>106</td>\n",
       "      <td>128</td>\n",
       "      <td>345.300000</td>\n",
       "    </tr>\n",
       "    <tr>\n",
       "      <th>14</th>\n",
       "      <td>14</td>\n",
       "      <td>60</td>\n",
       "      <td>'2020/12/14'</td>\n",
       "      <td>104</td>\n",
       "      <td>132</td>\n",
       "      <td>379.300000</td>\n",
       "    </tr>\n",
       "    <tr>\n",
       "      <th>15</th>\n",
       "      <td>15</td>\n",
       "      <td>60</td>\n",
       "      <td>'2020/12/15'</td>\n",
       "      <td>98</td>\n",
       "      <td>123</td>\n",
       "      <td>275.000000</td>\n",
       "    </tr>\n",
       "    <tr>\n",
       "      <th>16</th>\n",
       "      <td>16</td>\n",
       "      <td>60</td>\n",
       "      <td>'2020/12/16'</td>\n",
       "      <td>98</td>\n",
       "      <td>120</td>\n",
       "      <td>215.200000</td>\n",
       "    </tr>\n",
       "    <tr>\n",
       "      <th>17</th>\n",
       "      <td>17</td>\n",
       "      <td>60</td>\n",
       "      <td>'2020/12/17'</td>\n",
       "      <td>100</td>\n",
       "      <td>120</td>\n",
       "      <td>300.000000</td>\n",
       "    </tr>\n",
       "    <tr>\n",
       "      <th>18</th>\n",
       "      <td>18</td>\n",
       "      <td>45</td>\n",
       "      <td>'2020/12/18'</td>\n",
       "      <td>90</td>\n",
       "      <td>112</td>\n",
       "      <td>305.462069</td>\n",
       "    </tr>\n",
       "    <tr>\n",
       "      <th>19</th>\n",
       "      <td>19</td>\n",
       "      <td>60</td>\n",
       "      <td>'2020/12/19'</td>\n",
       "      <td>103</td>\n",
       "      <td>123</td>\n",
       "      <td>323.000000</td>\n",
       "    </tr>\n",
       "    <tr>\n",
       "      <th>20</th>\n",
       "      <td>20</td>\n",
       "      <td>45</td>\n",
       "      <td>'2020/12/20'</td>\n",
       "      <td>97</td>\n",
       "      <td>125</td>\n",
       "      <td>243.000000</td>\n",
       "    </tr>\n",
       "    <tr>\n",
       "      <th>21</th>\n",
       "      <td>21</td>\n",
       "      <td>60</td>\n",
       "      <td>'2020/12/21'</td>\n",
       "      <td>108</td>\n",
       "      <td>131</td>\n",
       "      <td>364.200000</td>\n",
       "    </tr>\n",
       "    <tr>\n",
       "      <th>22</th>\n",
       "      <td>23</td>\n",
       "      <td>60</td>\n",
       "      <td>'2020/12/23'</td>\n",
       "      <td>130</td>\n",
       "      <td>101</td>\n",
       "      <td>300.000000</td>\n",
       "    </tr>\n",
       "    <tr>\n",
       "      <th>23</th>\n",
       "      <td>24</td>\n",
       "      <td>45</td>\n",
       "      <td>'2020/12/24'</td>\n",
       "      <td>105</td>\n",
       "      <td>132</td>\n",
       "      <td>246.000000</td>\n",
       "    </tr>\n",
       "    <tr>\n",
       "      <th>24</th>\n",
       "      <td>25</td>\n",
       "      <td>60</td>\n",
       "      <td>'2020/12/25'</td>\n",
       "      <td>102</td>\n",
       "      <td>126</td>\n",
       "      <td>334.500000</td>\n",
       "    </tr>\n",
       "  </tbody>\n",
       "</table>\n",
       "</div>"
      ],
      "text/plain": [
       "    Unnamed: 0  Duration          Date  Pulse  Maxpulse    Calories\n",
       "0            0        60  '2020/12/01'    110       130  409.100000\n",
       "1            1        60  '2020/12/02'    117       145  479.000000\n",
       "2            2        60  '2020/12/03'    103       135  340.000000\n",
       "3            3        45  '2020/12/04'    109       175  282.400000\n",
       "4            4        45  '2020/12/05'    117       148  406.000000\n",
       "5            5        60  '2020/12/06'    102       127  300.000000\n",
       "6            6        60  '2020/12/07'    110       136  374.000000\n",
       "7            7        45  '2020/12/08'    104       134  253.300000\n",
       "8            8        30  '2020/12/09'    109       133  195.100000\n",
       "9            9        60  '2020/12/10'     98       124  269.000000\n",
       "10          10        60  '2020/12/11'    103       147  329.300000\n",
       "11          11        60  '2020/12/12'    100       120  250.700000\n",
       "12          12        60  '2020/12/12'    100       120  250.700000\n",
       "13          13        60  '2020/12/13'    106       128  345.300000\n",
       "14          14        60  '2020/12/14'    104       132  379.300000\n",
       "15          15        60  '2020/12/15'     98       123  275.000000\n",
       "16          16        60  '2020/12/16'     98       120  215.200000\n",
       "17          17        60  '2020/12/17'    100       120  300.000000\n",
       "18          18        45  '2020/12/18'     90       112  305.462069\n",
       "19          19        60  '2020/12/19'    103       123  323.000000\n",
       "20          20        45  '2020/12/20'     97       125  243.000000\n",
       "21          21        60  '2020/12/21'    108       131  364.200000\n",
       "22          23        60  '2020/12/23'    130       101  300.000000\n",
       "23          24        45  '2020/12/24'    105       132  246.000000\n",
       "24          25        60  '2020/12/25'    102       126  334.500000"
      ]
     },
     "execution_count": 3,
     "metadata": {},
     "output_type": "execute_result"
    }
   ],
   "source": [
    "c.head(25)"
   ]
  },
  {
   "cell_type": "code",
   "execution_count": 4,
   "id": "03d6e058",
   "metadata": {},
   "outputs": [],
   "source": [
    "x=c['Duration']"
   ]
  },
  {
   "cell_type": "code",
   "execution_count": 5,
   "id": "33679257",
   "metadata": {},
   "outputs": [
    {
     "data": {
      "text/plain": [
       "0     60\n",
       "1     60\n",
       "2     60\n",
       "3     45\n",
       "4     45\n",
       "5     60\n",
       "6     60\n",
       "7     45\n",
       "8     30\n",
       "9     60\n",
       "10    60\n",
       "11    60\n",
       "12    60\n",
       "13    60\n",
       "14    60\n",
       "15    60\n",
       "16    60\n",
       "17    60\n",
       "18    45\n",
       "19    60\n",
       "20    45\n",
       "21    60\n",
       "22    60\n",
       "23    45\n",
       "24    60\n",
       "25    60\n",
       "26    60\n",
       "27    60\n",
       "28    60\n",
       "29    60\n",
       "30    60\n",
       "Name: Duration, dtype: int64"
      ]
     },
     "execution_count": 5,
     "metadata": {},
     "output_type": "execute_result"
    }
   ],
   "source": [
    "x"
   ]
  },
  {
   "cell_type": "code",
   "execution_count": 6,
   "id": "bba5bf13",
   "metadata": {},
   "outputs": [],
   "source": [
    "y=c['Calories']"
   ]
  },
  {
   "cell_type": "code",
   "execution_count": 7,
   "id": "3061abf9",
   "metadata": {},
   "outputs": [
    {
     "data": {
      "text/plain": [
       "0     409.100000\n",
       "1     479.000000\n",
       "2     340.000000\n",
       "3     282.400000\n",
       "4     406.000000\n",
       "5     300.000000\n",
       "6     374.000000\n",
       "7     253.300000\n",
       "8     195.100000\n",
       "9     269.000000\n",
       "10    329.300000\n",
       "11    250.700000\n",
       "12    250.700000\n",
       "13    345.300000\n",
       "14    379.300000\n",
       "15    275.000000\n",
       "16    215.200000\n",
       "17    300.000000\n",
       "18    305.462069\n",
       "19    323.000000\n",
       "20    243.000000\n",
       "21    364.200000\n",
       "22    300.000000\n",
       "23    246.000000\n",
       "24    334.500000\n",
       "25    250.000000\n",
       "26    241.000000\n",
       "27    305.462069\n",
       "28    280.000000\n",
       "29    380.300000\n",
       "30    243.000000\n",
       "Name: Calories, dtype: float64"
      ]
     },
     "execution_count": 7,
     "metadata": {},
     "output_type": "execute_result"
    }
   ],
   "source": [
    "y"
   ]
  },
  {
   "cell_type": "code",
   "execution_count": 8,
   "id": "044719ee",
   "metadata": {},
   "outputs": [
    {
     "data": {
      "image/png": "[encoded data removed]",
      "text/plain": [
       "<Figure size 432x288 with 1 Axes>"
      ]
     },
     "metadata": {
      "needs_background": "light"
     },
     "output_type": "display_data"
    }
   ],
   "source": [
    "x=np.array([60,60,60,45,45,60,60,45,30,60,60,60,60,60,60,60,60,60,45,60,45,60,60,45,60,60,60,60,60,60,60,])\n",
    "y=np.array([ 409,479,340,282,406,300,374,253,195,269,329,250,250,345,379,275,215,300,305,323,243,364,300,246,334,250,241,305,280,380,243])\n",
    "plt.plot(x,y)\n",
    "plt.title(\"Duration and Calories\")\n",
    "plt.xlabel(\"Duration\")\n",
    "plt.ylabel(\"Calories\")\n",
    "plt.show()"
   ]
  },
  {
   "cell_type": "code",
   "execution_count": 9,
   "id": "5fc32c3c",
   "metadata": {},
   "outputs": [
    {
     "data": {
      "image/png": "[encoded data removed]",
      "text/plain": [
       "<Figure size 432x288 with 1 Axes>"
      ]
     },
     "metadata": {
      "needs_background": "light"
     },
     "output_type": "display_data"
    }
   ],
   "source": [
    "plt.plot(c.Pulse,c.Calories)\n",
    "plt.title(\"Pulse and Calories\")\n",
    "plt.xlabel(\"Pulse\")\n",
    "plt.ylabel(\"Calories\")\n",
    "plt.show()"
   ]
  },
  {
   "cell_type": "code",
   "execution_count": 10,
   "id": "d658aa6c",
   "metadata": {},
   "outputs": [
    {
     "data": {
      "image/png": "[encoded data removed]",
      "text/plain": [
       "<Figure size 432x288 with 1 Axes>"
      ]
     },
     "metadata": {
      "needs_background": "light"
     },
     "output_type": "display_data"
    }
   ],
   "source": [
    "plt.plot(c.Maxpulse,c.Duration)\n",
    "plt.title(\"Duration and Maxpulse\")\n",
    "plt.xlabel(\"Duration\")\n",
    "plt.ylabel(\"Maxpulse\")\n",
    "plt.show()"
   ]
  },
  {
   "cell_type": "code",
   "execution_count": 11,
   "id": "3992f850",
   "metadata": {},
   "outputs": [],
   "source": [
    "c.to_csv(r'C:\\Users\\HP\\Desktop\\Cleanplot.csv')"
   ]
  },
  {
   "cell_type": "code",
   "execution_count": null,
   "id": "ae41dfba",
   "metadata": {},
   "outputs": [],
   "source": []
  },
  {
   "cell_type": "code",
   "execution_count": null,
   "id": "b27439bd",
   "metadata": {},
   "outputs": [],
   "source": []
  }
 ],
 "metadata": {
  "kernelspec": {
   "display_name": "Python 3 (ipykernel)",
   "language": "python",
   "name": "python3"
  },
  "language_info": {
   "codemirror_mode": {
    "name": "ipython",
    "version": 3
   },
   "file_extension": ".py",
   "mimetype": "text/x-python",
   "name": "python",
   "nbconvert_exporter": "python",
   "pygments_lexer": "ipython3",
   "version": "3.9.12"
  }
 },
 "nbformat": 4,
 "nbformat_minor": 5
}
